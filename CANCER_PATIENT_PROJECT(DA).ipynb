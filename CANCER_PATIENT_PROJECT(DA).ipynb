{
 "cells": [
  {
   "cell_type": "code",
   "execution_count": 1,
   "id": "b5ed2883",
   "metadata": {},
   "outputs": [
    {
     "data": {
      "text/plain": [
       "'C:\\\\Users\\\\HP'"
      ]
     },
     "execution_count": 1,
     "metadata": {},
     "output_type": "execute_result"
    }
   ],
   "source": [
    "pwd"
   ]
  },
  {
   "cell_type": "code",
   "execution_count": 2,
   "id": "93d83c81",
   "metadata": {},
   "outputs": [],
   "source": [
    "import pandas as pd"
   ]
  },
  {
   "cell_type": "code",
   "execution_count": 3,
   "id": "6b89cbd5",
   "metadata": {},
   "outputs": [],
   "source": [
    "df=pd.read_csv(\"cancer.csv\") #read csv file"
   ]
  },
  {
   "cell_type": "code",
   "execution_count": 67,
   "id": "8e22a076",
   "metadata": {},
   "outputs": [
    {
     "data": {
      "text/html": [
       "<div>\n",
       "<style scoped>\n",
       "    .dataframe tbody tr th:only-of-type {\n",
       "        vertical-align: middle;\n",
       "    }\n",
       "\n",
       "    .dataframe tbody tr th {\n",
       "        vertical-align: top;\n",
       "    }\n",
       "\n",
       "    .dataframe thead th {\n",
       "        text-align: right;\n",
       "    }\n",
       "</style>\n",
       "<table border=\"1\" class=\"dataframe\">\n",
       "  <thead>\n",
       "    <tr style=\"text-align: right;\">\n",
       "      <th></th>\n",
       "      <th>Patient Id</th>\n",
       "      <th>Age</th>\n",
       "      <th>Gender</th>\n",
       "      <th>Air Pollution</th>\n",
       "      <th>Alcohol use</th>\n",
       "      <th>Dust Allergy</th>\n",
       "      <th>OccuPational Hazards</th>\n",
       "      <th>Genetic Risk</th>\n",
       "      <th>chronic Lung Disease</th>\n",
       "      <th>Balanced Diet</th>\n",
       "      <th>...</th>\n",
       "      <th>Fatigue</th>\n",
       "      <th>Weight Loss</th>\n",
       "      <th>Shortness of Breath</th>\n",
       "      <th>Wheezing</th>\n",
       "      <th>Swallowing Difficulty</th>\n",
       "      <th>Clubbing of Finger Nails</th>\n",
       "      <th>Frequent Cold</th>\n",
       "      <th>Dry Cough</th>\n",
       "      <th>Snoring</th>\n",
       "      <th>Level</th>\n",
       "    </tr>\n",
       "  </thead>\n",
       "  <tbody>\n",
       "    <tr>\n",
       "      <th>0</th>\n",
       "      <td>P1</td>\n",
       "      <td>33</td>\n",
       "      <td>1</td>\n",
       "      <td>2</td>\n",
       "      <td>4</td>\n",
       "      <td>5</td>\n",
       "      <td>4</td>\n",
       "      <td>3</td>\n",
       "      <td>2</td>\n",
       "      <td>2</td>\n",
       "      <td>...</td>\n",
       "      <td>3</td>\n",
       "      <td>4</td>\n",
       "      <td>2</td>\n",
       "      <td>2</td>\n",
       "      <td>3</td>\n",
       "      <td>1</td>\n",
       "      <td>2</td>\n",
       "      <td>3</td>\n",
       "      <td>4</td>\n",
       "      <td>Low</td>\n",
       "    </tr>\n",
       "    <tr>\n",
       "      <th>1</th>\n",
       "      <td>P10</td>\n",
       "      <td>17</td>\n",
       "      <td>1</td>\n",
       "      <td>3</td>\n",
       "      <td>1</td>\n",
       "      <td>5</td>\n",
       "      <td>3</td>\n",
       "      <td>4</td>\n",
       "      <td>2</td>\n",
       "      <td>2</td>\n",
       "      <td>...</td>\n",
       "      <td>1</td>\n",
       "      <td>3</td>\n",
       "      <td>7</td>\n",
       "      <td>8</td>\n",
       "      <td>6</td>\n",
       "      <td>2</td>\n",
       "      <td>1</td>\n",
       "      <td>7</td>\n",
       "      <td>2</td>\n",
       "      <td>Medium</td>\n",
       "    </tr>\n",
       "    <tr>\n",
       "      <th>2</th>\n",
       "      <td>P100</td>\n",
       "      <td>35</td>\n",
       "      <td>1</td>\n",
       "      <td>4</td>\n",
       "      <td>5</td>\n",
       "      <td>6</td>\n",
       "      <td>5</td>\n",
       "      <td>5</td>\n",
       "      <td>4</td>\n",
       "      <td>6</td>\n",
       "      <td>...</td>\n",
       "      <td>8</td>\n",
       "      <td>7</td>\n",
       "      <td>9</td>\n",
       "      <td>2</td>\n",
       "      <td>1</td>\n",
       "      <td>4</td>\n",
       "      <td>6</td>\n",
       "      <td>7</td>\n",
       "      <td>2</td>\n",
       "      <td>High</td>\n",
       "    </tr>\n",
       "    <tr>\n",
       "      <th>3</th>\n",
       "      <td>P1000</td>\n",
       "      <td>37</td>\n",
       "      <td>1</td>\n",
       "      <td>7</td>\n",
       "      <td>7</td>\n",
       "      <td>7</td>\n",
       "      <td>7</td>\n",
       "      <td>6</td>\n",
       "      <td>7</td>\n",
       "      <td>7</td>\n",
       "      <td>...</td>\n",
       "      <td>4</td>\n",
       "      <td>2</td>\n",
       "      <td>3</td>\n",
       "      <td>1</td>\n",
       "      <td>4</td>\n",
       "      <td>5</td>\n",
       "      <td>6</td>\n",
       "      <td>7</td>\n",
       "      <td>5</td>\n",
       "      <td>High</td>\n",
       "    </tr>\n",
       "    <tr>\n",
       "      <th>4</th>\n",
       "      <td>P101</td>\n",
       "      <td>46</td>\n",
       "      <td>1</td>\n",
       "      <td>6</td>\n",
       "      <td>8</td>\n",
       "      <td>7</td>\n",
       "      <td>7</td>\n",
       "      <td>7</td>\n",
       "      <td>6</td>\n",
       "      <td>7</td>\n",
       "      <td>...</td>\n",
       "      <td>3</td>\n",
       "      <td>2</td>\n",
       "      <td>4</td>\n",
       "      <td>1</td>\n",
       "      <td>4</td>\n",
       "      <td>2</td>\n",
       "      <td>4</td>\n",
       "      <td>2</td>\n",
       "      <td>3</td>\n",
       "      <td>High</td>\n",
       "    </tr>\n",
       "  </tbody>\n",
       "</table>\n",
       "<p>5 rows × 25 columns</p>\n",
       "</div>"
      ],
      "text/plain": [
       "  Patient Id  Age  Gender  Air Pollution  Alcohol use  Dust Allergy  \\\n",
       "0         P1   33       1              2            4             5   \n",
       "1        P10   17       1              3            1             5   \n",
       "2       P100   35       1              4            5             6   \n",
       "3      P1000   37       1              7            7             7   \n",
       "4       P101   46       1              6            8             7   \n",
       "\n",
       "   OccuPational Hazards  Genetic Risk  chronic Lung Disease  Balanced Diet  \\\n",
       "0                     4             3                     2              2   \n",
       "1                     3             4                     2              2   \n",
       "2                     5             5                     4              6   \n",
       "3                     7             6                     7              7   \n",
       "4                     7             7                     6              7   \n",
       "\n",
       "   ...  Fatigue  Weight Loss  Shortness of Breath  Wheezing  \\\n",
       "0  ...        3            4                    2         2   \n",
       "1  ...        1            3                    7         8   \n",
       "2  ...        8            7                    9         2   \n",
       "3  ...        4            2                    3         1   \n",
       "4  ...        3            2                    4         1   \n",
       "\n",
       "   Swallowing Difficulty  Clubbing of Finger Nails  Frequent Cold  Dry Cough  \\\n",
       "0                      3                         1              2          3   \n",
       "1                      6                         2              1          7   \n",
       "2                      1                         4              6          7   \n",
       "3                      4                         5              6          7   \n",
       "4                      4                         2              4          2   \n",
       "\n",
       "   Snoring   Level  \n",
       "0        4     Low  \n",
       "1        2  Medium  \n",
       "2        2    High  \n",
       "3        5    High  \n",
       "4        3    High  \n",
       "\n",
       "[5 rows x 25 columns]"
      ]
     },
     "execution_count": 67,
     "metadata": {},
     "output_type": "execute_result"
    }
   ],
   "source": [
    "df.head()"
   ]
  },
  {
   "cell_type": "code",
   "execution_count": 68,
   "id": "caaa6ee0",
   "metadata": {},
   "outputs": [
    {
     "data": {
      "text/html": [
       "<div>\n",
       "<style scoped>\n",
       "    .dataframe tbody tr th:only-of-type {\n",
       "        vertical-align: middle;\n",
       "    }\n",
       "\n",
       "    .dataframe tbody tr th {\n",
       "        vertical-align: top;\n",
       "    }\n",
       "\n",
       "    .dataframe thead th {\n",
       "        text-align: right;\n",
       "    }\n",
       "</style>\n",
       "<table border=\"1\" class=\"dataframe\">\n",
       "  <thead>\n",
       "    <tr style=\"text-align: right;\">\n",
       "      <th></th>\n",
       "      <th>Patient Id</th>\n",
       "      <th>Age</th>\n",
       "      <th>Gender</th>\n",
       "      <th>Air Pollution</th>\n",
       "      <th>Alcohol use</th>\n",
       "      <th>Dust Allergy</th>\n",
       "      <th>OccuPational Hazards</th>\n",
       "      <th>Genetic Risk</th>\n",
       "      <th>chronic Lung Disease</th>\n",
       "      <th>Balanced Diet</th>\n",
       "      <th>...</th>\n",
       "      <th>Fatigue</th>\n",
       "      <th>Weight Loss</th>\n",
       "      <th>Shortness of Breath</th>\n",
       "      <th>Wheezing</th>\n",
       "      <th>Swallowing Difficulty</th>\n",
       "      <th>Clubbing of Finger Nails</th>\n",
       "      <th>Frequent Cold</th>\n",
       "      <th>Dry Cough</th>\n",
       "      <th>Snoring</th>\n",
       "      <th>Level</th>\n",
       "    </tr>\n",
       "  </thead>\n",
       "  <tbody>\n",
       "    <tr>\n",
       "      <th>995</th>\n",
       "      <td>P995</td>\n",
       "      <td>44</td>\n",
       "      <td>1</td>\n",
       "      <td>6</td>\n",
       "      <td>7</td>\n",
       "      <td>7</td>\n",
       "      <td>7</td>\n",
       "      <td>7</td>\n",
       "      <td>6</td>\n",
       "      <td>7</td>\n",
       "      <td>...</td>\n",
       "      <td>5</td>\n",
       "      <td>3</td>\n",
       "      <td>2</td>\n",
       "      <td>7</td>\n",
       "      <td>8</td>\n",
       "      <td>2</td>\n",
       "      <td>4</td>\n",
       "      <td>5</td>\n",
       "      <td>3</td>\n",
       "      <td>High</td>\n",
       "    </tr>\n",
       "    <tr>\n",
       "      <th>996</th>\n",
       "      <td>P996</td>\n",
       "      <td>37</td>\n",
       "      <td>2</td>\n",
       "      <td>6</td>\n",
       "      <td>8</td>\n",
       "      <td>7</td>\n",
       "      <td>7</td>\n",
       "      <td>7</td>\n",
       "      <td>6</td>\n",
       "      <td>7</td>\n",
       "      <td>...</td>\n",
       "      <td>9</td>\n",
       "      <td>6</td>\n",
       "      <td>5</td>\n",
       "      <td>7</td>\n",
       "      <td>2</td>\n",
       "      <td>4</td>\n",
       "      <td>3</td>\n",
       "      <td>1</td>\n",
       "      <td>4</td>\n",
       "      <td>High</td>\n",
       "    </tr>\n",
       "    <tr>\n",
       "      <th>997</th>\n",
       "      <td>P997</td>\n",
       "      <td>25</td>\n",
       "      <td>2</td>\n",
       "      <td>4</td>\n",
       "      <td>5</td>\n",
       "      <td>6</td>\n",
       "      <td>5</td>\n",
       "      <td>5</td>\n",
       "      <td>4</td>\n",
       "      <td>6</td>\n",
       "      <td>...</td>\n",
       "      <td>8</td>\n",
       "      <td>7</td>\n",
       "      <td>9</td>\n",
       "      <td>2</td>\n",
       "      <td>1</td>\n",
       "      <td>4</td>\n",
       "      <td>6</td>\n",
       "      <td>7</td>\n",
       "      <td>2</td>\n",
       "      <td>High</td>\n",
       "    </tr>\n",
       "    <tr>\n",
       "      <th>998</th>\n",
       "      <td>P998</td>\n",
       "      <td>18</td>\n",
       "      <td>2</td>\n",
       "      <td>6</td>\n",
       "      <td>8</td>\n",
       "      <td>7</td>\n",
       "      <td>7</td>\n",
       "      <td>7</td>\n",
       "      <td>6</td>\n",
       "      <td>7</td>\n",
       "      <td>...</td>\n",
       "      <td>3</td>\n",
       "      <td>2</td>\n",
       "      <td>4</td>\n",
       "      <td>1</td>\n",
       "      <td>4</td>\n",
       "      <td>2</td>\n",
       "      <td>4</td>\n",
       "      <td>2</td>\n",
       "      <td>3</td>\n",
       "      <td>High</td>\n",
       "    </tr>\n",
       "    <tr>\n",
       "      <th>999</th>\n",
       "      <td>P999</td>\n",
       "      <td>47</td>\n",
       "      <td>1</td>\n",
       "      <td>6</td>\n",
       "      <td>5</td>\n",
       "      <td>6</td>\n",
       "      <td>5</td>\n",
       "      <td>5</td>\n",
       "      <td>4</td>\n",
       "      <td>6</td>\n",
       "      <td>...</td>\n",
       "      <td>8</td>\n",
       "      <td>7</td>\n",
       "      <td>9</td>\n",
       "      <td>2</td>\n",
       "      <td>1</td>\n",
       "      <td>4</td>\n",
       "      <td>6</td>\n",
       "      <td>7</td>\n",
       "      <td>2</td>\n",
       "      <td>High</td>\n",
       "    </tr>\n",
       "  </tbody>\n",
       "</table>\n",
       "<p>5 rows × 25 columns</p>\n",
       "</div>"
      ],
      "text/plain": [
       "    Patient Id  Age  Gender  Air Pollution  Alcohol use  Dust Allergy  \\\n",
       "995       P995   44       1              6            7             7   \n",
       "996       P996   37       2              6            8             7   \n",
       "997       P997   25       2              4            5             6   \n",
       "998       P998   18       2              6            8             7   \n",
       "999       P999   47       1              6            5             6   \n",
       "\n",
       "     OccuPational Hazards  Genetic Risk  chronic Lung Disease  Balanced Diet  \\\n",
       "995                     7             7                     6              7   \n",
       "996                     7             7                     6              7   \n",
       "997                     5             5                     4              6   \n",
       "998                     7             7                     6              7   \n",
       "999                     5             5                     4              6   \n",
       "\n",
       "     ...  Fatigue  Weight Loss  Shortness of Breath  Wheezing  \\\n",
       "995  ...        5            3                    2         7   \n",
       "996  ...        9            6                    5         7   \n",
       "997  ...        8            7                    9         2   \n",
       "998  ...        3            2                    4         1   \n",
       "999  ...        8            7                    9         2   \n",
       "\n",
       "     Swallowing Difficulty  Clubbing of Finger Nails  Frequent Cold  \\\n",
       "995                      8                         2              4   \n",
       "996                      2                         4              3   \n",
       "997                      1                         4              6   \n",
       "998                      4                         2              4   \n",
       "999                      1                         4              6   \n",
       "\n",
       "     Dry Cough  Snoring  Level  \n",
       "995          5        3   High  \n",
       "996          1        4   High  \n",
       "997          7        2   High  \n",
       "998          2        3   High  \n",
       "999          7        2   High  \n",
       "\n",
       "[5 rows x 25 columns]"
      ]
     },
     "execution_count": 68,
     "metadata": {},
     "output_type": "execute_result"
    }
   ],
   "source": [
    "df.tail()"
   ]
  },
  {
   "cell_type": "code",
   "execution_count": 70,
   "id": "dc0f60cd",
   "metadata": {},
   "outputs": [
    {
     "data": {
      "text/plain": [
       "(1000, 25)"
      ]
     },
     "execution_count": 70,
     "metadata": {},
     "output_type": "execute_result"
    }
   ],
   "source": [
    "df.shape"
   ]
  },
  {
   "cell_type": "code",
   "execution_count": 64,
   "id": "0251fd49",
   "metadata": {},
   "outputs": [
    {
     "data": {
      "text/html": [
       "<div>\n",
       "<style scoped>\n",
       "    .dataframe tbody tr th:only-of-type {\n",
       "        vertical-align: middle;\n",
       "    }\n",
       "\n",
       "    .dataframe tbody tr th {\n",
       "        vertical-align: top;\n",
       "    }\n",
       "\n",
       "    .dataframe thead th {\n",
       "        text-align: right;\n",
       "    }\n",
       "</style>\n",
       "<table border=\"1\" class=\"dataframe\">\n",
       "  <thead>\n",
       "    <tr style=\"text-align: right;\">\n",
       "      <th></th>\n",
       "      <th>Patient Id</th>\n",
       "      <th>Age</th>\n",
       "      <th>Gender</th>\n",
       "      <th>Air Pollution</th>\n",
       "      <th>Alcohol use</th>\n",
       "      <th>Dust Allergy</th>\n",
       "      <th>OccuPational Hazards</th>\n",
       "      <th>Genetic Risk</th>\n",
       "      <th>chronic Lung Disease</th>\n",
       "      <th>Balanced Diet</th>\n",
       "      <th>...</th>\n",
       "      <th>Fatigue</th>\n",
       "      <th>Weight Loss</th>\n",
       "      <th>Shortness of Breath</th>\n",
       "      <th>Wheezing</th>\n",
       "      <th>Swallowing Difficulty</th>\n",
       "      <th>Clubbing of Finger Nails</th>\n",
       "      <th>Frequent Cold</th>\n",
       "      <th>Dry Cough</th>\n",
       "      <th>Snoring</th>\n",
       "      <th>Level</th>\n",
       "    </tr>\n",
       "  </thead>\n",
       "  <tbody>\n",
       "    <tr>\n",
       "      <th>0</th>\n",
       "      <td>False</td>\n",
       "      <td>False</td>\n",
       "      <td>False</td>\n",
       "      <td>False</td>\n",
       "      <td>False</td>\n",
       "      <td>False</td>\n",
       "      <td>False</td>\n",
       "      <td>False</td>\n",
       "      <td>False</td>\n",
       "      <td>False</td>\n",
       "      <td>...</td>\n",
       "      <td>False</td>\n",
       "      <td>False</td>\n",
       "      <td>False</td>\n",
       "      <td>False</td>\n",
       "      <td>False</td>\n",
       "      <td>False</td>\n",
       "      <td>False</td>\n",
       "      <td>False</td>\n",
       "      <td>False</td>\n",
       "      <td>False</td>\n",
       "    </tr>\n",
       "    <tr>\n",
       "      <th>1</th>\n",
       "      <td>False</td>\n",
       "      <td>False</td>\n",
       "      <td>False</td>\n",
       "      <td>False</td>\n",
       "      <td>False</td>\n",
       "      <td>False</td>\n",
       "      <td>False</td>\n",
       "      <td>False</td>\n",
       "      <td>False</td>\n",
       "      <td>False</td>\n",
       "      <td>...</td>\n",
       "      <td>False</td>\n",
       "      <td>False</td>\n",
       "      <td>False</td>\n",
       "      <td>False</td>\n",
       "      <td>False</td>\n",
       "      <td>False</td>\n",
       "      <td>False</td>\n",
       "      <td>False</td>\n",
       "      <td>False</td>\n",
       "      <td>False</td>\n",
       "    </tr>\n",
       "    <tr>\n",
       "      <th>2</th>\n",
       "      <td>False</td>\n",
       "      <td>False</td>\n",
       "      <td>False</td>\n",
       "      <td>False</td>\n",
       "      <td>False</td>\n",
       "      <td>False</td>\n",
       "      <td>False</td>\n",
       "      <td>False</td>\n",
       "      <td>False</td>\n",
       "      <td>False</td>\n",
       "      <td>...</td>\n",
       "      <td>False</td>\n",
       "      <td>False</td>\n",
       "      <td>False</td>\n",
       "      <td>False</td>\n",
       "      <td>False</td>\n",
       "      <td>False</td>\n",
       "      <td>False</td>\n",
       "      <td>False</td>\n",
       "      <td>False</td>\n",
       "      <td>False</td>\n",
       "    </tr>\n",
       "    <tr>\n",
       "      <th>3</th>\n",
       "      <td>False</td>\n",
       "      <td>False</td>\n",
       "      <td>False</td>\n",
       "      <td>False</td>\n",
       "      <td>False</td>\n",
       "      <td>False</td>\n",
       "      <td>False</td>\n",
       "      <td>False</td>\n",
       "      <td>False</td>\n",
       "      <td>False</td>\n",
       "      <td>...</td>\n",
       "      <td>False</td>\n",
       "      <td>False</td>\n",
       "      <td>False</td>\n",
       "      <td>False</td>\n",
       "      <td>False</td>\n",
       "      <td>False</td>\n",
       "      <td>False</td>\n",
       "      <td>False</td>\n",
       "      <td>False</td>\n",
       "      <td>False</td>\n",
       "    </tr>\n",
       "    <tr>\n",
       "      <th>4</th>\n",
       "      <td>False</td>\n",
       "      <td>False</td>\n",
       "      <td>False</td>\n",
       "      <td>False</td>\n",
       "      <td>False</td>\n",
       "      <td>False</td>\n",
       "      <td>False</td>\n",
       "      <td>False</td>\n",
       "      <td>False</td>\n",
       "      <td>False</td>\n",
       "      <td>...</td>\n",
       "      <td>False</td>\n",
       "      <td>False</td>\n",
       "      <td>False</td>\n",
       "      <td>False</td>\n",
       "      <td>False</td>\n",
       "      <td>False</td>\n",
       "      <td>False</td>\n",
       "      <td>False</td>\n",
       "      <td>False</td>\n",
       "      <td>False</td>\n",
       "    </tr>\n",
       "    <tr>\n",
       "      <th>...</th>\n",
       "      <td>...</td>\n",
       "      <td>...</td>\n",
       "      <td>...</td>\n",
       "      <td>...</td>\n",
       "      <td>...</td>\n",
       "      <td>...</td>\n",
       "      <td>...</td>\n",
       "      <td>...</td>\n",
       "      <td>...</td>\n",
       "      <td>...</td>\n",
       "      <td>...</td>\n",
       "      <td>...</td>\n",
       "      <td>...</td>\n",
       "      <td>...</td>\n",
       "      <td>...</td>\n",
       "      <td>...</td>\n",
       "      <td>...</td>\n",
       "      <td>...</td>\n",
       "      <td>...</td>\n",
       "      <td>...</td>\n",
       "      <td>...</td>\n",
       "    </tr>\n",
       "    <tr>\n",
       "      <th>995</th>\n",
       "      <td>False</td>\n",
       "      <td>False</td>\n",
       "      <td>False</td>\n",
       "      <td>False</td>\n",
       "      <td>False</td>\n",
       "      <td>False</td>\n",
       "      <td>False</td>\n",
       "      <td>False</td>\n",
       "      <td>False</td>\n",
       "      <td>False</td>\n",
       "      <td>...</td>\n",
       "      <td>False</td>\n",
       "      <td>False</td>\n",
       "      <td>False</td>\n",
       "      <td>False</td>\n",
       "      <td>False</td>\n",
       "      <td>False</td>\n",
       "      <td>False</td>\n",
       "      <td>False</td>\n",
       "      <td>False</td>\n",
       "      <td>False</td>\n",
       "    </tr>\n",
       "    <tr>\n",
       "      <th>996</th>\n",
       "      <td>False</td>\n",
       "      <td>False</td>\n",
       "      <td>False</td>\n",
       "      <td>False</td>\n",
       "      <td>False</td>\n",
       "      <td>False</td>\n",
       "      <td>False</td>\n",
       "      <td>False</td>\n",
       "      <td>False</td>\n",
       "      <td>False</td>\n",
       "      <td>...</td>\n",
       "      <td>False</td>\n",
       "      <td>False</td>\n",
       "      <td>False</td>\n",
       "      <td>False</td>\n",
       "      <td>False</td>\n",
       "      <td>False</td>\n",
       "      <td>False</td>\n",
       "      <td>False</td>\n",
       "      <td>False</td>\n",
       "      <td>False</td>\n",
       "    </tr>\n",
       "    <tr>\n",
       "      <th>997</th>\n",
       "      <td>False</td>\n",
       "      <td>False</td>\n",
       "      <td>False</td>\n",
       "      <td>False</td>\n",
       "      <td>False</td>\n",
       "      <td>False</td>\n",
       "      <td>False</td>\n",
       "      <td>False</td>\n",
       "      <td>False</td>\n",
       "      <td>False</td>\n",
       "      <td>...</td>\n",
       "      <td>False</td>\n",
       "      <td>False</td>\n",
       "      <td>False</td>\n",
       "      <td>False</td>\n",
       "      <td>False</td>\n",
       "      <td>False</td>\n",
       "      <td>False</td>\n",
       "      <td>False</td>\n",
       "      <td>False</td>\n",
       "      <td>False</td>\n",
       "    </tr>\n",
       "    <tr>\n",
       "      <th>998</th>\n",
       "      <td>False</td>\n",
       "      <td>False</td>\n",
       "      <td>False</td>\n",
       "      <td>False</td>\n",
       "      <td>False</td>\n",
       "      <td>False</td>\n",
       "      <td>False</td>\n",
       "      <td>False</td>\n",
       "      <td>False</td>\n",
       "      <td>False</td>\n",
       "      <td>...</td>\n",
       "      <td>False</td>\n",
       "      <td>False</td>\n",
       "      <td>False</td>\n",
       "      <td>False</td>\n",
       "      <td>False</td>\n",
       "      <td>False</td>\n",
       "      <td>False</td>\n",
       "      <td>False</td>\n",
       "      <td>False</td>\n",
       "      <td>False</td>\n",
       "    </tr>\n",
       "    <tr>\n",
       "      <th>999</th>\n",
       "      <td>False</td>\n",
       "      <td>False</td>\n",
       "      <td>False</td>\n",
       "      <td>False</td>\n",
       "      <td>False</td>\n",
       "      <td>False</td>\n",
       "      <td>False</td>\n",
       "      <td>False</td>\n",
       "      <td>False</td>\n",
       "      <td>False</td>\n",
       "      <td>...</td>\n",
       "      <td>False</td>\n",
       "      <td>False</td>\n",
       "      <td>False</td>\n",
       "      <td>False</td>\n",
       "      <td>False</td>\n",
       "      <td>False</td>\n",
       "      <td>False</td>\n",
       "      <td>False</td>\n",
       "      <td>False</td>\n",
       "      <td>False</td>\n",
       "    </tr>\n",
       "  </tbody>\n",
       "</table>\n",
       "<p>1000 rows × 25 columns</p>\n",
       "</div>"
      ],
      "text/plain": [
       "     Patient Id    Age  Gender  Air Pollution  Alcohol use  Dust Allergy  \\\n",
       "0         False  False   False          False        False         False   \n",
       "1         False  False   False          False        False         False   \n",
       "2         False  False   False          False        False         False   \n",
       "3         False  False   False          False        False         False   \n",
       "4         False  False   False          False        False         False   \n",
       "..          ...    ...     ...            ...          ...           ...   \n",
       "995       False  False   False          False        False         False   \n",
       "996       False  False   False          False        False         False   \n",
       "997       False  False   False          False        False         False   \n",
       "998       False  False   False          False        False         False   \n",
       "999       False  False   False          False        False         False   \n",
       "\n",
       "     OccuPational Hazards  Genetic Risk  chronic Lung Disease  Balanced Diet  \\\n",
       "0                   False         False                 False          False   \n",
       "1                   False         False                 False          False   \n",
       "2                   False         False                 False          False   \n",
       "3                   False         False                 False          False   \n",
       "4                   False         False                 False          False   \n",
       "..                    ...           ...                   ...            ...   \n",
       "995                 False         False                 False          False   \n",
       "996                 False         False                 False          False   \n",
       "997                 False         False                 False          False   \n",
       "998                 False         False                 False          False   \n",
       "999                 False         False                 False          False   \n",
       "\n",
       "     ...  Fatigue  Weight Loss  Shortness of Breath  Wheezing  \\\n",
       "0    ...    False        False                False     False   \n",
       "1    ...    False        False                False     False   \n",
       "2    ...    False        False                False     False   \n",
       "3    ...    False        False                False     False   \n",
       "4    ...    False        False                False     False   \n",
       "..   ...      ...          ...                  ...       ...   \n",
       "995  ...    False        False                False     False   \n",
       "996  ...    False        False                False     False   \n",
       "997  ...    False        False                False     False   \n",
       "998  ...    False        False                False     False   \n",
       "999  ...    False        False                False     False   \n",
       "\n",
       "     Swallowing Difficulty  Clubbing of Finger Nails  Frequent Cold  \\\n",
       "0                    False                     False          False   \n",
       "1                    False                     False          False   \n",
       "2                    False                     False          False   \n",
       "3                    False                     False          False   \n",
       "4                    False                     False          False   \n",
       "..                     ...                       ...            ...   \n",
       "995                  False                     False          False   \n",
       "996                  False                     False          False   \n",
       "997                  False                     False          False   \n",
       "998                  False                     False          False   \n",
       "999                  False                     False          False   \n",
       "\n",
       "     Dry Cough  Snoring  Level  \n",
       "0        False    False  False  \n",
       "1        False    False  False  \n",
       "2        False    False  False  \n",
       "3        False    False  False  \n",
       "4        False    False  False  \n",
       "..         ...      ...    ...  \n",
       "995      False    False  False  \n",
       "996      False    False  False  \n",
       "997      False    False  False  \n",
       "998      False    False  False  \n",
       "999      False    False  False  \n",
       "\n",
       "[1000 rows x 25 columns]"
      ]
     },
     "execution_count": 64,
     "metadata": {},
     "output_type": "execute_result"
    }
   ],
   "source": [
    "df.isnull()"
   ]
  },
  {
   "cell_type": "code",
   "execution_count": 4,
   "id": "f46f4748",
   "metadata": {},
   "outputs": [],
   "source": [
    "import pandas as pd\n",
    "from matplotlib import pyplot as plt\n",
    "import seaborn as sns\n",
    "from sklearn.model_selection import train_test_split\n",
    "from sklearn.linear_model import LogisticRegression"
   ]
  },
  {
   "cell_type": "code",
   "execution_count": 5,
   "id": "848235d4",
   "metadata": {},
   "outputs": [],
   "source": [
    "df1 = df.drop(labels=['Patient Id'],axis=1,inplace=False) # drop patient id column"
   ]
  },
  {
   "cell_type": "code",
   "execution_count": 6,
   "id": "26bb418b",
   "metadata": {},
   "outputs": [
    {
     "data": {
      "text/html": [
       "<div>\n",
       "<style scoped>\n",
       "    .dataframe tbody tr th:only-of-type {\n",
       "        vertical-align: middle;\n",
       "    }\n",
       "\n",
       "    .dataframe tbody tr th {\n",
       "        vertical-align: top;\n",
       "    }\n",
       "\n",
       "    .dataframe thead th {\n",
       "        text-align: right;\n",
       "    }\n",
       "</style>\n",
       "<table border=\"1\" class=\"dataframe\">\n",
       "  <thead>\n",
       "    <tr style=\"text-align: right;\">\n",
       "      <th></th>\n",
       "      <th>Age</th>\n",
       "      <th>Gender</th>\n",
       "      <th>Air Pollution</th>\n",
       "      <th>Alcohol use</th>\n",
       "      <th>Dust Allergy</th>\n",
       "      <th>OccuPational Hazards</th>\n",
       "      <th>Genetic Risk</th>\n",
       "      <th>chronic Lung Disease</th>\n",
       "      <th>Balanced Diet</th>\n",
       "      <th>Obesity</th>\n",
       "      <th>...</th>\n",
       "      <th>Fatigue</th>\n",
       "      <th>Weight Loss</th>\n",
       "      <th>Shortness of Breath</th>\n",
       "      <th>Wheezing</th>\n",
       "      <th>Swallowing Difficulty</th>\n",
       "      <th>Clubbing of Finger Nails</th>\n",
       "      <th>Frequent Cold</th>\n",
       "      <th>Dry Cough</th>\n",
       "      <th>Snoring</th>\n",
       "      <th>Level</th>\n",
       "    </tr>\n",
       "  </thead>\n",
       "  <tbody>\n",
       "    <tr>\n",
       "      <th>0</th>\n",
       "      <td>33</td>\n",
       "      <td>1</td>\n",
       "      <td>2</td>\n",
       "      <td>4</td>\n",
       "      <td>5</td>\n",
       "      <td>4</td>\n",
       "      <td>3</td>\n",
       "      <td>2</td>\n",
       "      <td>2</td>\n",
       "      <td>4</td>\n",
       "      <td>...</td>\n",
       "      <td>3</td>\n",
       "      <td>4</td>\n",
       "      <td>2</td>\n",
       "      <td>2</td>\n",
       "      <td>3</td>\n",
       "      <td>1</td>\n",
       "      <td>2</td>\n",
       "      <td>3</td>\n",
       "      <td>4</td>\n",
       "      <td>Low</td>\n",
       "    </tr>\n",
       "    <tr>\n",
       "      <th>1</th>\n",
       "      <td>17</td>\n",
       "      <td>1</td>\n",
       "      <td>3</td>\n",
       "      <td>1</td>\n",
       "      <td>5</td>\n",
       "      <td>3</td>\n",
       "      <td>4</td>\n",
       "      <td>2</td>\n",
       "      <td>2</td>\n",
       "      <td>2</td>\n",
       "      <td>...</td>\n",
       "      <td>1</td>\n",
       "      <td>3</td>\n",
       "      <td>7</td>\n",
       "      <td>8</td>\n",
       "      <td>6</td>\n",
       "      <td>2</td>\n",
       "      <td>1</td>\n",
       "      <td>7</td>\n",
       "      <td>2</td>\n",
       "      <td>Medium</td>\n",
       "    </tr>\n",
       "    <tr>\n",
       "      <th>2</th>\n",
       "      <td>35</td>\n",
       "      <td>1</td>\n",
       "      <td>4</td>\n",
       "      <td>5</td>\n",
       "      <td>6</td>\n",
       "      <td>5</td>\n",
       "      <td>5</td>\n",
       "      <td>4</td>\n",
       "      <td>6</td>\n",
       "      <td>7</td>\n",
       "      <td>...</td>\n",
       "      <td>8</td>\n",
       "      <td>7</td>\n",
       "      <td>9</td>\n",
       "      <td>2</td>\n",
       "      <td>1</td>\n",
       "      <td>4</td>\n",
       "      <td>6</td>\n",
       "      <td>7</td>\n",
       "      <td>2</td>\n",
       "      <td>High</td>\n",
       "    </tr>\n",
       "    <tr>\n",
       "      <th>3</th>\n",
       "      <td>37</td>\n",
       "      <td>1</td>\n",
       "      <td>7</td>\n",
       "      <td>7</td>\n",
       "      <td>7</td>\n",
       "      <td>7</td>\n",
       "      <td>6</td>\n",
       "      <td>7</td>\n",
       "      <td>7</td>\n",
       "      <td>7</td>\n",
       "      <td>...</td>\n",
       "      <td>4</td>\n",
       "      <td>2</td>\n",
       "      <td>3</td>\n",
       "      <td>1</td>\n",
       "      <td>4</td>\n",
       "      <td>5</td>\n",
       "      <td>6</td>\n",
       "      <td>7</td>\n",
       "      <td>5</td>\n",
       "      <td>High</td>\n",
       "    </tr>\n",
       "    <tr>\n",
       "      <th>4</th>\n",
       "      <td>46</td>\n",
       "      <td>1</td>\n",
       "      <td>6</td>\n",
       "      <td>8</td>\n",
       "      <td>7</td>\n",
       "      <td>7</td>\n",
       "      <td>7</td>\n",
       "      <td>6</td>\n",
       "      <td>7</td>\n",
       "      <td>7</td>\n",
       "      <td>...</td>\n",
       "      <td>3</td>\n",
       "      <td>2</td>\n",
       "      <td>4</td>\n",
       "      <td>1</td>\n",
       "      <td>4</td>\n",
       "      <td>2</td>\n",
       "      <td>4</td>\n",
       "      <td>2</td>\n",
       "      <td>3</td>\n",
       "      <td>High</td>\n",
       "    </tr>\n",
       "    <tr>\n",
       "      <th>...</th>\n",
       "      <td>...</td>\n",
       "      <td>...</td>\n",
       "      <td>...</td>\n",
       "      <td>...</td>\n",
       "      <td>...</td>\n",
       "      <td>...</td>\n",
       "      <td>...</td>\n",
       "      <td>...</td>\n",
       "      <td>...</td>\n",
       "      <td>...</td>\n",
       "      <td>...</td>\n",
       "      <td>...</td>\n",
       "      <td>...</td>\n",
       "      <td>...</td>\n",
       "      <td>...</td>\n",
       "      <td>...</td>\n",
       "      <td>...</td>\n",
       "      <td>...</td>\n",
       "      <td>...</td>\n",
       "      <td>...</td>\n",
       "      <td>...</td>\n",
       "    </tr>\n",
       "    <tr>\n",
       "      <th>995</th>\n",
       "      <td>44</td>\n",
       "      <td>1</td>\n",
       "      <td>6</td>\n",
       "      <td>7</td>\n",
       "      <td>7</td>\n",
       "      <td>7</td>\n",
       "      <td>7</td>\n",
       "      <td>6</td>\n",
       "      <td>7</td>\n",
       "      <td>7</td>\n",
       "      <td>...</td>\n",
       "      <td>5</td>\n",
       "      <td>3</td>\n",
       "      <td>2</td>\n",
       "      <td>7</td>\n",
       "      <td>8</td>\n",
       "      <td>2</td>\n",
       "      <td>4</td>\n",
       "      <td>5</td>\n",
       "      <td>3</td>\n",
       "      <td>High</td>\n",
       "    </tr>\n",
       "    <tr>\n",
       "      <th>996</th>\n",
       "      <td>37</td>\n",
       "      <td>2</td>\n",
       "      <td>6</td>\n",
       "      <td>8</td>\n",
       "      <td>7</td>\n",
       "      <td>7</td>\n",
       "      <td>7</td>\n",
       "      <td>6</td>\n",
       "      <td>7</td>\n",
       "      <td>7</td>\n",
       "      <td>...</td>\n",
       "      <td>9</td>\n",
       "      <td>6</td>\n",
       "      <td>5</td>\n",
       "      <td>7</td>\n",
       "      <td>2</td>\n",
       "      <td>4</td>\n",
       "      <td>3</td>\n",
       "      <td>1</td>\n",
       "      <td>4</td>\n",
       "      <td>High</td>\n",
       "    </tr>\n",
       "    <tr>\n",
       "      <th>997</th>\n",
       "      <td>25</td>\n",
       "      <td>2</td>\n",
       "      <td>4</td>\n",
       "      <td>5</td>\n",
       "      <td>6</td>\n",
       "      <td>5</td>\n",
       "      <td>5</td>\n",
       "      <td>4</td>\n",
       "      <td>6</td>\n",
       "      <td>7</td>\n",
       "      <td>...</td>\n",
       "      <td>8</td>\n",
       "      <td>7</td>\n",
       "      <td>9</td>\n",
       "      <td>2</td>\n",
       "      <td>1</td>\n",
       "      <td>4</td>\n",
       "      <td>6</td>\n",
       "      <td>7</td>\n",
       "      <td>2</td>\n",
       "      <td>High</td>\n",
       "    </tr>\n",
       "    <tr>\n",
       "      <th>998</th>\n",
       "      <td>18</td>\n",
       "      <td>2</td>\n",
       "      <td>6</td>\n",
       "      <td>8</td>\n",
       "      <td>7</td>\n",
       "      <td>7</td>\n",
       "      <td>7</td>\n",
       "      <td>6</td>\n",
       "      <td>7</td>\n",
       "      <td>7</td>\n",
       "      <td>...</td>\n",
       "      <td>3</td>\n",
       "      <td>2</td>\n",
       "      <td>4</td>\n",
       "      <td>1</td>\n",
       "      <td>4</td>\n",
       "      <td>2</td>\n",
       "      <td>4</td>\n",
       "      <td>2</td>\n",
       "      <td>3</td>\n",
       "      <td>High</td>\n",
       "    </tr>\n",
       "    <tr>\n",
       "      <th>999</th>\n",
       "      <td>47</td>\n",
       "      <td>1</td>\n",
       "      <td>6</td>\n",
       "      <td>5</td>\n",
       "      <td>6</td>\n",
       "      <td>5</td>\n",
       "      <td>5</td>\n",
       "      <td>4</td>\n",
       "      <td>6</td>\n",
       "      <td>7</td>\n",
       "      <td>...</td>\n",
       "      <td>8</td>\n",
       "      <td>7</td>\n",
       "      <td>9</td>\n",
       "      <td>2</td>\n",
       "      <td>1</td>\n",
       "      <td>4</td>\n",
       "      <td>6</td>\n",
       "      <td>7</td>\n",
       "      <td>2</td>\n",
       "      <td>High</td>\n",
       "    </tr>\n",
       "  </tbody>\n",
       "</table>\n",
       "<p>1000 rows × 24 columns</p>\n",
       "</div>"
      ],
      "text/plain": [
       "     Age  Gender  Air Pollution  Alcohol use  Dust Allergy  \\\n",
       "0     33       1              2            4             5   \n",
       "1     17       1              3            1             5   \n",
       "2     35       1              4            5             6   \n",
       "3     37       1              7            7             7   \n",
       "4     46       1              6            8             7   \n",
       "..   ...     ...            ...          ...           ...   \n",
       "995   44       1              6            7             7   \n",
       "996   37       2              6            8             7   \n",
       "997   25       2              4            5             6   \n",
       "998   18       2              6            8             7   \n",
       "999   47       1              6            5             6   \n",
       "\n",
       "     OccuPational Hazards  Genetic Risk  chronic Lung Disease  Balanced Diet  \\\n",
       "0                       4             3                     2              2   \n",
       "1                       3             4                     2              2   \n",
       "2                       5             5                     4              6   \n",
       "3                       7             6                     7              7   \n",
       "4                       7             7                     6              7   \n",
       "..                    ...           ...                   ...            ...   \n",
       "995                     7             7                     6              7   \n",
       "996                     7             7                     6              7   \n",
       "997                     5             5                     4              6   \n",
       "998                     7             7                     6              7   \n",
       "999                     5             5                     4              6   \n",
       "\n",
       "     Obesity  ...  Fatigue  Weight Loss  Shortness of Breath  Wheezing  \\\n",
       "0          4  ...        3            4                    2         2   \n",
       "1          2  ...        1            3                    7         8   \n",
       "2          7  ...        8            7                    9         2   \n",
       "3          7  ...        4            2                    3         1   \n",
       "4          7  ...        3            2                    4         1   \n",
       "..       ...  ...      ...          ...                  ...       ...   \n",
       "995        7  ...        5            3                    2         7   \n",
       "996        7  ...        9            6                    5         7   \n",
       "997        7  ...        8            7                    9         2   \n",
       "998        7  ...        3            2                    4         1   \n",
       "999        7  ...        8            7                    9         2   \n",
       "\n",
       "     Swallowing Difficulty  Clubbing of Finger Nails  Frequent Cold  \\\n",
       "0                        3                         1              2   \n",
       "1                        6                         2              1   \n",
       "2                        1                         4              6   \n",
       "3                        4                         5              6   \n",
       "4                        4                         2              4   \n",
       "..                     ...                       ...            ...   \n",
       "995                      8                         2              4   \n",
       "996                      2                         4              3   \n",
       "997                      1                         4              6   \n",
       "998                      4                         2              4   \n",
       "999                      1                         4              6   \n",
       "\n",
       "     Dry Cough  Snoring   Level  \n",
       "0            3        4     Low  \n",
       "1            7        2  Medium  \n",
       "2            7        2    High  \n",
       "3            7        5    High  \n",
       "4            2        3    High  \n",
       "..         ...      ...     ...  \n",
       "995          5        3    High  \n",
       "996          1        4    High  \n",
       "997          7        2    High  \n",
       "998          2        3    High  \n",
       "999          7        2    High  \n",
       "\n",
       "[1000 rows x 24 columns]"
      ]
     },
     "execution_count": 6,
     "metadata": {},
     "output_type": "execute_result"
    }
   ],
   "source": [
    "df1"
   ]
  },
  {
   "cell_type": "code",
   "execution_count": 8,
   "id": "8a6b7966",
   "metadata": {},
   "outputs": [],
   "source": [
    " patient_id=df['Patient Id']"
   ]
  },
  {
   "cell_type": "code",
   "execution_count": 9,
   "id": "4acaff5a",
   "metadata": {},
   "outputs": [],
   "source": [
    "col = df1.columns"
   ]
  },
  {
   "cell_type": "code",
   "execution_count": 10,
   "id": "f3a7a72c",
   "metadata": {},
   "outputs": [
    {
     "data": {
      "text/plain": [
       "Index(['Age', 'Gender', 'Air Pollution', 'Alcohol use', 'Dust Allergy',\n",
       "       'OccuPational Hazards', 'Genetic Risk', 'chronic Lung Disease',\n",
       "       'Balanced Diet', 'Obesity', 'Smoking', 'Passive Smoker', 'Chest Pain',\n",
       "       'Coughing of Blood', 'Fatigue', 'Weight Loss', 'Shortness of Breath',\n",
       "       'Wheezing', 'Swallowing Difficulty', 'Clubbing of Finger Nails',\n",
       "       'Frequent Cold', 'Dry Cough', 'Snoring', 'Level'],\n",
       "      dtype='object')"
      ]
     },
     "execution_count": 10,
     "metadata": {},
     "output_type": "execute_result"
    }
   ],
   "source": [
    "col"
   ]
  },
  {
   "cell_type": "code",
   "execution_count": 11,
   "id": "7c05da89",
   "metadata": {},
   "outputs": [
    {
     "data": {
      "text/html": [
       "<div>\n",
       "<style scoped>\n",
       "    .dataframe tbody tr th:only-of-type {\n",
       "        vertical-align: middle;\n",
       "    }\n",
       "\n",
       "    .dataframe tbody tr th {\n",
       "        vertical-align: top;\n",
       "    }\n",
       "\n",
       "    .dataframe thead th {\n",
       "        text-align: right;\n",
       "    }\n",
       "</style>\n",
       "<table border=\"1\" class=\"dataframe\">\n",
       "  <thead>\n",
       "    <tr style=\"text-align: right;\">\n",
       "      <th></th>\n",
       "      <th>Age</th>\n",
       "      <th>Gender</th>\n",
       "      <th>Air Pollution</th>\n",
       "      <th>Alcohol use</th>\n",
       "      <th>Dust Allergy</th>\n",
       "      <th>OccuPational Hazards</th>\n",
       "      <th>Genetic Risk</th>\n",
       "      <th>chronic Lung Disease</th>\n",
       "      <th>Balanced Diet</th>\n",
       "      <th>Obesity</th>\n",
       "      <th>...</th>\n",
       "      <th>Coughing of Blood</th>\n",
       "      <th>Fatigue</th>\n",
       "      <th>Weight Loss</th>\n",
       "      <th>Shortness of Breath</th>\n",
       "      <th>Wheezing</th>\n",
       "      <th>Swallowing Difficulty</th>\n",
       "      <th>Clubbing of Finger Nails</th>\n",
       "      <th>Frequent Cold</th>\n",
       "      <th>Dry Cough</th>\n",
       "      <th>Snoring</th>\n",
       "    </tr>\n",
       "  </thead>\n",
       "  <tbody>\n",
       "    <tr>\n",
       "      <th>count</th>\n",
       "      <td>1000.000000</td>\n",
       "      <td>1000.000000</td>\n",
       "      <td>1000.0000</td>\n",
       "      <td>1000.000000</td>\n",
       "      <td>1000.000000</td>\n",
       "      <td>1000.000000</td>\n",
       "      <td>1000.000000</td>\n",
       "      <td>1000.000000</td>\n",
       "      <td>1000.000000</td>\n",
       "      <td>1000.000000</td>\n",
       "      <td>...</td>\n",
       "      <td>1000.000000</td>\n",
       "      <td>1000.000000</td>\n",
       "      <td>1000.000000</td>\n",
       "      <td>1000.000000</td>\n",
       "      <td>1000.000000</td>\n",
       "      <td>1000.000000</td>\n",
       "      <td>1000.000000</td>\n",
       "      <td>1000.000000</td>\n",
       "      <td>1000.000000</td>\n",
       "      <td>1000.000000</td>\n",
       "    </tr>\n",
       "    <tr>\n",
       "      <th>mean</th>\n",
       "      <td>37.174000</td>\n",
       "      <td>1.402000</td>\n",
       "      <td>3.8400</td>\n",
       "      <td>4.563000</td>\n",
       "      <td>5.165000</td>\n",
       "      <td>4.840000</td>\n",
       "      <td>4.580000</td>\n",
       "      <td>4.380000</td>\n",
       "      <td>4.491000</td>\n",
       "      <td>4.465000</td>\n",
       "      <td>...</td>\n",
       "      <td>4.859000</td>\n",
       "      <td>3.856000</td>\n",
       "      <td>3.855000</td>\n",
       "      <td>4.240000</td>\n",
       "      <td>3.777000</td>\n",
       "      <td>3.746000</td>\n",
       "      <td>3.923000</td>\n",
       "      <td>3.536000</td>\n",
       "      <td>3.853000</td>\n",
       "      <td>2.926000</td>\n",
       "    </tr>\n",
       "    <tr>\n",
       "      <th>std</th>\n",
       "      <td>12.005493</td>\n",
       "      <td>0.490547</td>\n",
       "      <td>2.0304</td>\n",
       "      <td>2.620477</td>\n",
       "      <td>1.980833</td>\n",
       "      <td>2.107805</td>\n",
       "      <td>2.126999</td>\n",
       "      <td>1.848518</td>\n",
       "      <td>2.135528</td>\n",
       "      <td>2.124921</td>\n",
       "      <td>...</td>\n",
       "      <td>2.427965</td>\n",
       "      <td>2.244616</td>\n",
       "      <td>2.206546</td>\n",
       "      <td>2.285087</td>\n",
       "      <td>2.041921</td>\n",
       "      <td>2.270383</td>\n",
       "      <td>2.388048</td>\n",
       "      <td>1.832502</td>\n",
       "      <td>2.039007</td>\n",
       "      <td>1.474686</td>\n",
       "    </tr>\n",
       "    <tr>\n",
       "      <th>min</th>\n",
       "      <td>14.000000</td>\n",
       "      <td>1.000000</td>\n",
       "      <td>1.0000</td>\n",
       "      <td>1.000000</td>\n",
       "      <td>1.000000</td>\n",
       "      <td>1.000000</td>\n",
       "      <td>1.000000</td>\n",
       "      <td>1.000000</td>\n",
       "      <td>1.000000</td>\n",
       "      <td>1.000000</td>\n",
       "      <td>...</td>\n",
       "      <td>1.000000</td>\n",
       "      <td>1.000000</td>\n",
       "      <td>1.000000</td>\n",
       "      <td>1.000000</td>\n",
       "      <td>1.000000</td>\n",
       "      <td>1.000000</td>\n",
       "      <td>1.000000</td>\n",
       "      <td>1.000000</td>\n",
       "      <td>1.000000</td>\n",
       "      <td>1.000000</td>\n",
       "    </tr>\n",
       "    <tr>\n",
       "      <th>25%</th>\n",
       "      <td>27.750000</td>\n",
       "      <td>1.000000</td>\n",
       "      <td>2.0000</td>\n",
       "      <td>2.000000</td>\n",
       "      <td>4.000000</td>\n",
       "      <td>3.000000</td>\n",
       "      <td>2.000000</td>\n",
       "      <td>3.000000</td>\n",
       "      <td>2.000000</td>\n",
       "      <td>3.000000</td>\n",
       "      <td>...</td>\n",
       "      <td>3.000000</td>\n",
       "      <td>2.000000</td>\n",
       "      <td>2.000000</td>\n",
       "      <td>2.000000</td>\n",
       "      <td>2.000000</td>\n",
       "      <td>2.000000</td>\n",
       "      <td>2.000000</td>\n",
       "      <td>2.000000</td>\n",
       "      <td>2.000000</td>\n",
       "      <td>2.000000</td>\n",
       "    </tr>\n",
       "    <tr>\n",
       "      <th>50%</th>\n",
       "      <td>36.000000</td>\n",
       "      <td>1.000000</td>\n",
       "      <td>3.0000</td>\n",
       "      <td>5.000000</td>\n",
       "      <td>6.000000</td>\n",
       "      <td>5.000000</td>\n",
       "      <td>5.000000</td>\n",
       "      <td>4.000000</td>\n",
       "      <td>4.000000</td>\n",
       "      <td>4.000000</td>\n",
       "      <td>...</td>\n",
       "      <td>4.000000</td>\n",
       "      <td>3.000000</td>\n",
       "      <td>3.000000</td>\n",
       "      <td>4.000000</td>\n",
       "      <td>4.000000</td>\n",
       "      <td>4.000000</td>\n",
       "      <td>4.000000</td>\n",
       "      <td>3.000000</td>\n",
       "      <td>4.000000</td>\n",
       "      <td>3.000000</td>\n",
       "    </tr>\n",
       "    <tr>\n",
       "      <th>75%</th>\n",
       "      <td>45.000000</td>\n",
       "      <td>2.000000</td>\n",
       "      <td>6.0000</td>\n",
       "      <td>7.000000</td>\n",
       "      <td>7.000000</td>\n",
       "      <td>7.000000</td>\n",
       "      <td>7.000000</td>\n",
       "      <td>6.000000</td>\n",
       "      <td>7.000000</td>\n",
       "      <td>7.000000</td>\n",
       "      <td>...</td>\n",
       "      <td>7.000000</td>\n",
       "      <td>5.000000</td>\n",
       "      <td>6.000000</td>\n",
       "      <td>6.000000</td>\n",
       "      <td>5.000000</td>\n",
       "      <td>5.000000</td>\n",
       "      <td>5.000000</td>\n",
       "      <td>5.000000</td>\n",
       "      <td>6.000000</td>\n",
       "      <td>4.000000</td>\n",
       "    </tr>\n",
       "    <tr>\n",
       "      <th>max</th>\n",
       "      <td>73.000000</td>\n",
       "      <td>2.000000</td>\n",
       "      <td>8.0000</td>\n",
       "      <td>8.000000</td>\n",
       "      <td>8.000000</td>\n",
       "      <td>8.000000</td>\n",
       "      <td>7.000000</td>\n",
       "      <td>7.000000</td>\n",
       "      <td>7.000000</td>\n",
       "      <td>7.000000</td>\n",
       "      <td>...</td>\n",
       "      <td>9.000000</td>\n",
       "      <td>9.000000</td>\n",
       "      <td>8.000000</td>\n",
       "      <td>9.000000</td>\n",
       "      <td>8.000000</td>\n",
       "      <td>8.000000</td>\n",
       "      <td>9.000000</td>\n",
       "      <td>7.000000</td>\n",
       "      <td>7.000000</td>\n",
       "      <td>7.000000</td>\n",
       "    </tr>\n",
       "  </tbody>\n",
       "</table>\n",
       "<p>8 rows × 23 columns</p>\n",
       "</div>"
      ],
      "text/plain": [
       "               Age       Gender  Air Pollution  Alcohol use  Dust Allergy  \\\n",
       "count  1000.000000  1000.000000      1000.0000  1000.000000   1000.000000   \n",
       "mean     37.174000     1.402000         3.8400     4.563000      5.165000   \n",
       "std      12.005493     0.490547         2.0304     2.620477      1.980833   \n",
       "min      14.000000     1.000000         1.0000     1.000000      1.000000   \n",
       "25%      27.750000     1.000000         2.0000     2.000000      4.000000   \n",
       "50%      36.000000     1.000000         3.0000     5.000000      6.000000   \n",
       "75%      45.000000     2.000000         6.0000     7.000000      7.000000   \n",
       "max      73.000000     2.000000         8.0000     8.000000      8.000000   \n",
       "\n",
       "       OccuPational Hazards  Genetic Risk  chronic Lung Disease  \\\n",
       "count           1000.000000   1000.000000           1000.000000   \n",
       "mean               4.840000      4.580000              4.380000   \n",
       "std                2.107805      2.126999              1.848518   \n",
       "min                1.000000      1.000000              1.000000   \n",
       "25%                3.000000      2.000000              3.000000   \n",
       "50%                5.000000      5.000000              4.000000   \n",
       "75%                7.000000      7.000000              6.000000   \n",
       "max                8.000000      7.000000              7.000000   \n",
       "\n",
       "       Balanced Diet      Obesity  ...  Coughing of Blood      Fatigue  \\\n",
       "count    1000.000000  1000.000000  ...        1000.000000  1000.000000   \n",
       "mean        4.491000     4.465000  ...           4.859000     3.856000   \n",
       "std         2.135528     2.124921  ...           2.427965     2.244616   \n",
       "min         1.000000     1.000000  ...           1.000000     1.000000   \n",
       "25%         2.000000     3.000000  ...           3.000000     2.000000   \n",
       "50%         4.000000     4.000000  ...           4.000000     3.000000   \n",
       "75%         7.000000     7.000000  ...           7.000000     5.000000   \n",
       "max         7.000000     7.000000  ...           9.000000     9.000000   \n",
       "\n",
       "       Weight Loss  Shortness of Breath     Wheezing  Swallowing Difficulty  \\\n",
       "count  1000.000000          1000.000000  1000.000000            1000.000000   \n",
       "mean      3.855000             4.240000     3.777000               3.746000   \n",
       "std       2.206546             2.285087     2.041921               2.270383   \n",
       "min       1.000000             1.000000     1.000000               1.000000   \n",
       "25%       2.000000             2.000000     2.000000               2.000000   \n",
       "50%       3.000000             4.000000     4.000000               4.000000   \n",
       "75%       6.000000             6.000000     5.000000               5.000000   \n",
       "max       8.000000             9.000000     8.000000               8.000000   \n",
       "\n",
       "       Clubbing of Finger Nails  Frequent Cold    Dry Cough      Snoring  \n",
       "count               1000.000000    1000.000000  1000.000000  1000.000000  \n",
       "mean                   3.923000       3.536000     3.853000     2.926000  \n",
       "std                    2.388048       1.832502     2.039007     1.474686  \n",
       "min                    1.000000       1.000000     1.000000     1.000000  \n",
       "25%                    2.000000       2.000000     2.000000     2.000000  \n",
       "50%                    4.000000       3.000000     4.000000     3.000000  \n",
       "75%                    5.000000       5.000000     6.000000     4.000000  \n",
       "max                    9.000000       7.000000     7.000000     7.000000  \n",
       "\n",
       "[8 rows x 23 columns]"
      ]
     },
     "execution_count": 11,
     "metadata": {},
     "output_type": "execute_result"
    }
   ],
   "source": [
    "df.describe()"
   ]
  },
  {
   "cell_type": "code",
   "execution_count": 12,
   "id": "560b2951",
   "metadata": {},
   "outputs": [
    {
     "data": {
      "text/plain": [
       "Patient Id                  0\n",
       "Age                         0\n",
       "Gender                      0\n",
       "Air Pollution               0\n",
       "Alcohol use                 0\n",
       "Dust Allergy                0\n",
       "OccuPational Hazards        0\n",
       "Genetic Risk                0\n",
       "chronic Lung Disease        0\n",
       "Balanced Diet               0\n",
       "Obesity                     0\n",
       "Smoking                     0\n",
       "Passive Smoker              0\n",
       "Chest Pain                  0\n",
       "Coughing of Blood           0\n",
       "Fatigue                     0\n",
       "Weight Loss                 0\n",
       "Shortness of Breath         0\n",
       "Wheezing                    0\n",
       "Swallowing Difficulty       0\n",
       "Clubbing of Finger Nails    0\n",
       "Frequent Cold               0\n",
       "Dry Cough                   0\n",
       "Snoring                     0\n",
       "Level                       0\n",
       "dtype: int64"
      ]
     },
     "execution_count": 12,
     "metadata": {},
     "output_type": "execute_result"
    }
   ],
   "source": [
    "df.isnull().sum() #To check number of null values"
   ]
  },
  {
   "cell_type": "code",
   "execution_count": 13,
   "id": "ad98e089",
   "metadata": {},
   "outputs": [
    {
     "name": "stderr",
     "output_type": "stream",
     "text": [
      "C:\\ProgramData\\Anaconda3\\lib\\site-packages\\seaborn\\_decorators.py:36: FutureWarning: Pass the following variables as keyword args: x, y. From version 0.12, the only valid positional argument will be `data`, and passing other arguments without an explicit keyword will result in an error or misinterpretation.\n",
      "  warnings.warn(\n"
     ]
    },
    {
     "data": {
      "text/plain": [
       "<AxesSubplot:xlabel='Air Pollution', ylabel='Wheezing'>"
      ]
     },
     "execution_count": 13,
     "metadata": {},
     "output_type": "execute_result"
    },
    {
     "data": {
      "image/png": "[encoded data removed]",
      "text/plain": [
       "<Figure size 432x288 with 1 Axes>"
      ]
     },
     "metadata": {
      "needs_background": "light"
     },
     "output_type": "display_data"
    }
   ],
   "source": [
    "sns.boxplot(df['Air Pollution'],df['Wheezing'])"
   ]
  },
  {
   "cell_type": "code",
   "execution_count": 14,
   "id": "6541ad05",
   "metadata": {},
   "outputs": [
    {
     "data": {
      "image/png": "[encoded data removed]",
      "text/plain": [
       "<Figure size 432x288 with 1 Axes>"
      ]
     },
     "metadata": {
      "needs_background": "light"
     },
     "output_type": "display_data"
    }
   ],
   "source": [
    "plt.bar(df[\"Age\"][0:25],df[\"Chest Pain\"][0:25],width=2,color=\"blue\")\n",
    "plt.show()\n",
    "        "
   ]
  },
  {
   "cell_type": "code",
   "execution_count": 16,
   "id": "6389a70c",
   "metadata": {},
   "outputs": [
    {
     "name": "stderr",
     "output_type": "stream",
     "text": [
      "C:\\ProgramData\\Anaconda3\\lib\\site-packages\\seaborn\\_decorators.py:36: FutureWarning: Pass the following variables as keyword args: x, y. From version 0.12, the only valid positional argument will be `data`, and passing other arguments without an explicit keyword will result in an error or misinterpretation.\n",
      "  warnings.warn(\n"
     ]
    },
    {
     "data": {
      "text/plain": [
       "<AxesSubplot:xlabel='Obesity', ylabel='Smoking'>"
      ]
     },
     "execution_count": 16,
     "metadata": {},
     "output_type": "execute_result"
    },
    {
     "data": {
      "image/png": "[encoded data removed]",
      "text/plain": [
       "<Figure size 432x288 with 1 Axes>"
      ]
     },
     "metadata": {
      "needs_background": "light"
     },
     "output_type": "display_data"
    }
   ],
   "source": [
    "import seaborn as sns\n",
    "sns.barplot(df.Obesity,df.Smoking)"
   ]
  },
  {
   "cell_type": "code",
   "execution_count": 17,
   "id": "6c0981b6",
   "metadata": {},
   "outputs": [
    {
     "name": "stderr",
     "output_type": "stream",
     "text": [
      "C:\\ProgramData\\Anaconda3\\lib\\site-packages\\seaborn\\_decorators.py:36: FutureWarning: Pass the following variable as a keyword arg: x. From version 0.12, the only valid positional argument will be `data`, and passing other arguments without an explicit keyword will result in an error or misinterpretation.\n",
      "  warnings.warn(\n"
     ]
    },
    {
     "data": {
      "text/plain": [
       "<AxesSubplot:xlabel='Age', ylabel='count'>"
      ]
     },
     "execution_count": 17,
     "metadata": {},
     "output_type": "execute_result"
    },
    {
     "data": {
      "image/png": "[encoded data removed]",
      "text/plain": [
       "<Figure size 432x288 with 1 Axes>"
      ]
     },
     "metadata": {
      "needs_background": "light"
     },
     "output_type": "display_data"
    }
   ],
   "source": [
    "sns.countplot(df['Age'])"
   ]
  },
  {
   "cell_type": "code",
   "execution_count": 72,
   "id": "a865b8fe",
   "metadata": {},
   "outputs": [
    {
     "data": {
      "image/png": "[encoded data removed]",
      "text/plain": [
       "<Figure size 432x288 with 1 Axes>"
      ]
     },
     "metadata": {},
     "output_type": "display_data"
    }
   ],
   "source": [
    "a=df.loc[df[\"Fatigue\"]==3].count()[0]\n",
    "b=df.loc[df[\"Fatigue\"]<3].count()[0]\n",
    "c=df.loc[df[\"Fatigue\"]>3].count()[0]\n",
    "d=[a,b,c]\n",
    "l=[\"Fatigue=3\",\"Fatigue<3\",\"Fatigue>3\"]\n",
    "c=[\"pink\",\"green\",\"purple\"]\n",
    "e=[0.2,0,0.4]\n",
    "\n",
    "plt.pie(d,labels=l,colors=c,autopct=\"%1.2f%%\",explode=e)\n",
    "plt.show()"
   ]
  },
  {
   "cell_type": "code",
   "execution_count": 75,
   "id": "068f0c26",
   "metadata": {},
   "outputs": [
    {
     "data": {
      "image/png": "[encoded data removed]",
      "text/plain": [
       "<Figure size 432x288 with 1 Axes>"
      ]
     },
     "metadata": {},
     "output_type": "display_data"
    }
   ],
   "source": [
    "a=df.loc[df[\"Age\"]==50].count()[0]\n",
    "b=df.loc[df[\"Age\"]<50].count()[0]\n",
    "c=df.loc[df[\"Age\"]>50].count()[0]\n",
    "d=[a,b,c]\n",
    "l=[\"Age=50\",\"Age<50\",\"Age>50\"]\n",
    "c=[\"blue\",\"orange\",\"green\"]\n",
    "e=[0.2,0,0.4]\n",
    "\n",
    "plt.pie(d,labels=l,colors=c,autopct=\"%1.2f%%\",explode=e)\n",
    "plt.show()"
   ]
  },
  {
   "cell_type": "code",
   "execution_count": 18,
   "id": "07ae9c67",
   "metadata": {},
   "outputs": [
    {
     "name": "stderr",
     "output_type": "stream",
     "text": [
      "C:\\ProgramData\\Anaconda3\\lib\\site-packages\\seaborn\\_decorators.py:36: FutureWarning: Pass the following variables as keyword args: x, y. From version 0.12, the only valid positional argument will be `data`, and passing other arguments without an explicit keyword will result in an error or misinterpretation.\n",
      "  warnings.warn(\n"
     ]
    },
    {
     "data": {
      "text/plain": [
       "<AxesSubplot:xlabel='Smoking', ylabel='Weight Loss'>"
      ]
     },
     "execution_count": 18,
     "metadata": {},
     "output_type": "execute_result"
    },
    {
     "data": {
      "image/png": "[encoded data removed]",
      "text/plain": [
       "<Figure size 432x288 with 1 Axes>"
      ]
     },
     "metadata": {
      "needs_background": "light"
     },
     "output_type": "display_data"
    }
   ],
   "source": [
    "sns.scatterplot(df['Smoking'],df['Weight Loss'])"
   ]
  },
  {
   "cell_type": "code",
   "execution_count": 19,
   "id": "1b273bd9",
   "metadata": {},
   "outputs": [
    {
     "data": {
      "text/plain": [
       "{'whiskers': [<matplotlib.lines.Line2D at 0x5a739d0>,\n",
       "  <matplotlib.lines.Line2D at 0x5a73b80>],\n",
       " 'caps': [<matplotlib.lines.Line2D at 0x5a73d30>,\n",
       "  <matplotlib.lines.Line2D at 0x5a73ee0>],\n",
       " 'boxes': [<matplotlib.lines.Line2D at 0x5a73820>],\n",
       " 'medians': [<matplotlib.lines.Line2D at 0x5a830b8>],\n",
       " 'fliers': [<matplotlib.lines.Line2D at 0x5a83268>],\n",
       " 'means': []}"
      ]
     },
     "execution_count": 19,
     "metadata": {},
     "output_type": "execute_result"
    },
    {
     "data": {
      "image/png": "[encoded data removed]",
      "text/plain": [
       "<Figure size 432x288 with 1 Axes>"
      ]
     },
     "metadata": {
      "needs_background": "light"
     },
     "output_type": "display_data"
    }
   ],
   "source": [
    "plt.boxplot(df['Snoring'])"
   ]
  },
  {
   "cell_type": "code",
   "execution_count": 21,
   "id": "014c08cd",
   "metadata": {},
   "outputs": [],
   "source": [
    "a=df1.corr()"
   ]
  },
  {
   "cell_type": "code",
   "execution_count": 22,
   "id": "6f54c759",
   "metadata": {},
   "outputs": [
    {
     "data": {
      "text/plain": [
       "<AxesSubplot:>"
      ]
     },
     "execution_count": 22,
     "metadata": {},
     "output_type": "execute_result"
    },
    {
     "data": {
      "image/png": "[encoded data removed]",
      "text/plain": [
       "<Figure size 432x288 with 2 Axes>"
      ]
     },
     "metadata": {
      "needs_background": "light"
     },
     "output_type": "display_data"
    }
   ],
   "source": [
    "sns.heatmap(a)"
   ]
  },
  {
   "cell_type": "code",
   "execution_count": 31,
   "id": "f2a71168",
   "metadata": {},
   "outputs": [
    {
     "name": "stderr",
     "output_type": "stream",
     "text": [
      "C:\\ProgramData\\Anaconda3\\lib\\site-packages\\seaborn\\_decorators.py:36: FutureWarning: Pass the following variables as keyword args: x, y. From version 0.12, the only valid positional argument will be `data`, and passing other arguments without an explicit keyword will result in an error or misinterpretation.\n",
      "  warnings.warn(\n"
     ]
    },
    {
     "data": {
      "text/plain": [
       "<AxesSubplot:xlabel='Shortness of Breath', ylabel='Wheezing'>"
      ]
     },
     "execution_count": 31,
     "metadata": {},
     "output_type": "execute_result"
    },
    {
     "data": {
      "image/png": "[encoded data removed]",
      "text/plain": [
       "<Figure size 432x288 with 1 Axes>"
      ]
     },
     "metadata": {},
     "output_type": "display_data"
    }
   ],
   "source": [
    "sns.violinplot(df[\"Shortness of Breath\"],df[\"Wheezing\"])"
   ]
  },
  {
   "cell_type": "code",
   "execution_count": 32,
   "id": "a9104209",
   "metadata": {
    "scrolled": true
   },
   "outputs": [
    {
     "data": {
      "text/plain": [
       "<AxesSubplot:>"
      ]
     },
     "execution_count": 32,
     "metadata": {},
     "output_type": "execute_result"
    },
    {
     "data": {
      "image/png": "[encoded data removed]",
      "text/plain": [
       "<Figure size 432x288 with 2 Axes>"
      ]
     },
     "metadata": {},
     "output_type": "display_data"
    }
   ],
   "source": [
    "sns.heatmap(df1.isnull()) #No null values present"
   ]
  },
  {
   "cell_type": "code",
   "execution_count": null,
   "id": "b5289aa2",
   "metadata": {},
   "outputs": [],
   "source": []
  },
  {
   "cell_type": "code",
   "execution_count": 33,
   "id": "f50cb3a9",
   "metadata": {},
   "outputs": [],
   "source": [
    "\n",
    "features = ['Age', 'Gender', 'Air Pollution', 'Alcohol use', 'Dust Allergy', 'OccuPational Hazards', 'Genetic Risk',\n",
    "       'chronic Lung Disease', 'Balanced Diet', 'Obesity', 'Smoking',\n",
    "       'Passive Smoker', 'Chest Pain', 'Coughing of Blood', 'Fatigue',\n",
    "       'Weight Loss', 'Shortness of Breath', 'Wheezing',\n",
    "       'Swallowing Difficulty', 'Clubbing of Finger Nails', 'Frequent Cold',\n",
    "       'Dry Cough', 'Snoring']\n"
   ]
  },
  {
   "cell_type": "code",
   "execution_count": 35,
   "id": "cfb86337",
   "metadata": {},
   "outputs": [],
   "source": [
    "y = df1.Level\n",
    "x = df1[features]"
   ]
  },
  {
   "cell_type": "code",
   "execution_count": 37,
   "id": "03676714",
   "metadata": {},
   "outputs": [],
   "source": [
    "from sklearn.model_selection import train_test_split\n",
    "x_train, x_test, y_train, y_test = train_test_split(x, y, random_state = 1)"
   ]
  },
  {
   "cell_type": "code",
   "execution_count": 42,
   "id": "32d872ae",
   "metadata": {},
   "outputs": [],
   "source": [
    "# Random Tree Classifier\n",
    "from sklearn.ensemble import RandomForestClassifier\n",
    "from sklearn.metrics import accuracy_score,confusion_matrix\n",
    "r=RandomForestClassifier()\n",
    "r.fit(x_train,y_train)\n",
    "pred3=r.predict(x_test)"
   ]
  },
  {
   "cell_type": "code",
   "execution_count": 43,
   "id": "7d0a7c6d",
   "metadata": {},
   "outputs": [
    {
     "data": {
      "text/plain": [
       "1.0"
      ]
     },
     "execution_count": 43,
     "metadata": {},
     "output_type": "execute_result"
    }
   ],
   "source": [
    "accuracy_score(pred3,y_test)"
   ]
  },
  {
   "cell_type": "code",
   "execution_count": 45,
   "id": "aca12bcc",
   "metadata": {},
   "outputs": [],
   "source": [
    "#Decision Tree Classifier\n",
    "from sklearn.tree import DecisionTreeClassifier\n",
    "dcf=DecisionTreeClassifier()\n",
    "dcf.fit(x_train,y_train)\n",
    "pred=dcf.predict(x_test)"
   ]
  },
  {
   "cell_type": "code",
   "execution_count": 46,
   "id": "c2ab04f3",
   "metadata": {},
   "outputs": [
    {
     "data": {
      "text/plain": [
       "1.0"
      ]
     },
     "execution_count": 46,
     "metadata": {},
     "output_type": "execute_result"
    }
   ],
   "source": [
    "accuracy_score(pred,y_test)"
   ]
  },
  {
   "cell_type": "code",
   "execution_count": 47,
   "id": "0e81ce7d",
   "metadata": {},
   "outputs": [],
   "source": [
    "data_x = df1.drop(labels=['Level'], axis=1, inplace=False)\n",
    "data_y = df1['Level']"
   ]
  },
  {
   "cell_type": "code",
   "execution_count": 49,
   "id": "bb49b865",
   "metadata": {},
   "outputs": [],
   "source": [
    "#Logistic Regression\n",
    "from sklearn.linear_model import LogisticRegression\n",
    "model = LogisticRegression(solver=\"liblinear\").fit(x_train,y_train)\n",
    "predict = model.predict(x_test)"
   ]
  },
  {
   "cell_type": "code",
   "execution_count": 51,
   "id": "9c963b0b",
   "metadata": {},
   "outputs": [
    {
     "data": {
      "text/plain": [
       "0.984"
      ]
     },
     "execution_count": 51,
     "metadata": {},
     "output_type": "execute_result"
    }
   ],
   "source": [
    "accuracy_score(predict,y_test)"
   ]
  },
  {
   "cell_type": "code",
   "execution_count": 56,
   "id": "bd59d128",
   "metadata": {},
   "outputs": [],
   "source": [
    "import numpy as np"
   ]
  },
  {
   "cell_type": "code",
   "execution_count": 57,
   "id": "575db0bd",
   "metadata": {},
   "outputs": [
    {
     "data": {
      "text/plain": [
       "2.12385851694505"
      ]
     },
     "execution_count": 57,
     "metadata": {},
     "output_type": "execute_result"
    }
   ],
   "source": [
    "np.std(df1['Obesity']) #Standard Deviation"
   ]
  },
  {
   "cell_type": "code",
   "execution_count": 58,
   "id": "d8459a18",
   "metadata": {},
   "outputs": [
    {
     "data": {
      "text/plain": [
       "4.118399999999954"
      ]
     },
     "execution_count": 58,
     "metadata": {},
     "output_type": "execute_result"
    }
   ],
   "source": [
    "np.var(df['Air Pollution']) #Variance"
   ]
  },
  {
   "cell_type": "code",
   "execution_count": 59,
   "id": "85add132",
   "metadata": {},
   "outputs": [
    {
     "data": {
      "text/plain": [
       "2.926"
      ]
     },
     "execution_count": 59,
     "metadata": {},
     "output_type": "execute_result"
    }
   ],
   "source": [
    "np.mean(df['Snoring'])\n"
   ]
  },
  {
   "cell_type": "code",
   "execution_count": 61,
   "id": "8add8c48",
   "metadata": {},
   "outputs": [
    {
     "data": {
      "text/plain": [
       "array(['Low', 'Medium', 'High'], dtype=object)"
      ]
     },
     "execution_count": 61,
     "metadata": {},
     "output_type": "execute_result"
    }
   ],
   "source": [
    "df['Level'].unique()"
   ]
  },
  {
   "cell_type": "code",
   "execution_count": 63,
   "id": "91221d3a",
   "metadata": {},
   "outputs": [
    {
     "name": "stdout",
     "output_type": "stream",
     "text": [
      "Shape of x_train= (750, 23)\n",
      "Shape of y_train= (750,)\n"
     ]
    }
   ],
   "source": [
    "print('Shape of x_train=', x_train.shape)\n",
    "print('Shape of y_train=',y_train.shape)"
   ]
  },
  {
   "cell_type": "code",
   "execution_count": null,
   "id": "52703c70",
   "metadata": {},
   "outputs": [],
   "source": []
  }
 ],
 "metadata": {
  "kernelspec": {
   "display_name": "Python 3",
   "language": "python",
   "name": "python3"
  },
  "language_info": {
   "codemirror_mode": {
    "name": "ipython",
    "version": 3
   },
   "file_extension": ".py",
   "mimetype": "text/x-python",
   "name": "python",
   "nbconvert_exporter": "python",
   "pygments_lexer": "ipython3",
   "version": "3.8.8"
  }
 },
 "nbformat": 4,
 "nbformat_minor": 5
}
